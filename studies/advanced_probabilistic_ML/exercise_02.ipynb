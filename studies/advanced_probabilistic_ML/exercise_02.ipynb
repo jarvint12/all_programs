{
 "cells": [
  {
   "cell_type": "markdown",
   "metadata": {
    "deletable": false,
    "editable": false,
    "nbgrader": {
     "cell_type": "markdown",
     "checksum": "d6f6fe0ea1929ce3625f974e8bb67df4",
     "grade": false,
     "grade_id": "cell-c0f021bd3bfa9ed6",
     "locked": true,
     "schema_version": 3,
     "solution": false,
     "task": false
    }
   },
   "source": [
    "## CS-E4820 Machine Learning: Advanced Probabilistic Methods (spring 2021)\n",
    "\n",
    "Pekka Marttinen, Santosh Hiremath, Tianyu Cui, Yogesh Kumar, Zheyang Shen, Alexander Aushev, Khaoula El Mekkaoui, Shaoxiong Ji, Alexander Nikitin, Sebastiaan De Peuter, Joakim Järvinen.\n",
    "\n",
    "## Exercise 2, due on Tuesday February 2 at 23:00.\n",
    "\n",
    "### Contents\n",
    "1. Problem 1: Computing conditional probability\n",
    "2. Problem 2: Conditional independence from Bayesian network\n",
    "3. Problem 3: Burden of specification\n",
    "4. Problem 4: Medical diagnosis\n",
    "\n"
   ]
  },
  {
   "cell_type": "markdown",
   "metadata": {
    "deletable": false,
    "editable": false,
    "nbgrader": {
     "cell_type": "markdown",
     "checksum": "1dd7896418f68ccd589e619d91239be1",
     "grade": false,
     "grade_id": "cell-1d2fdeeaba644f5d",
     "locked": true,
     "points": 2,
     "schema_version": 3,
     "solution": false,
     "task": true
    }
   },
   "source": [
    "## Problem 1: Computing conditional probability\n",
    "\n",
    "Consider the Bayesian network in figure below which represents Mr Holmes’ burglary worries: (B)urglar, (A)larm, (W)atson, Mrs (G)ibbon. All variables are binary with states $\\{\\mathsf{tr}, \\mathsf{fa}\\}$. \n",
    "\n",
    "![figure title](holmes_dag.png)\n",
    "\n",
    "The probabilities are\n",
    "\n",
    "\\begin{align*}\n",
    "    p(B = \\mathsf{tr}) &= 0.01 && \\\\\n",
    "    p(A = \\mathsf{tr}|B = \\mathsf{tr}) &= 0.99 & p(A = \\mathsf{tr}|B = \\mathsf{fa}) &= 0.05 \\\\\n",
    "    p(W = \\mathsf{tr}|A = \\mathsf{tr}) &= 0.90 & p(W = \\mathsf{tr}|A = \\mathsf{fa}) &= 0.5 \\\\\n",
    "    p(G = \\mathsf{tr}|A = \\mathsf{tr}) &= 0.7  & p(G = \\mathsf{tr}|A = \\mathsf{fa}) &= 0.2 \\\\\n",
    "\\end{align*}\n",
    "Compute the conditional probabilities\n",
    "\n",
    "__(a)__ \\\\(p(B = \\mathsf{tr}|W = \\mathsf{tr})\\\\)\n",
    "\n",
    "__(b)__ \\\\(p(B = \\mathsf{tr}|W = \\mathsf{tr}, G = \\mathsf{fa})\\\\)\n",
    "\n",
    "Write your solutions in LateX or attach a picture in the answer cell provided below. You can add a picture using the command ```!(imagename_in_the_folder.jpg)```. Latex in here works similarly as you would write it normally! You can use some of the definitions from the exercise description as a reference. The list of valid Latex commands in Jypyter notebook can be found here: http://www.onemathematicalcat.org/MathJaxDocumentation/TeXSyntax.htm\n"
   ]
  },
  {
   "cell_type": "markdown",
   "metadata": {},
   "source": [
    "# a.   𝑝(𝐵=𝗍𝗋|𝑊=𝗍𝗋)\n",
    "𝑝(𝐵=𝗍𝗋|𝑊=𝗍𝗋)= $\\dfrac{p(B=tr,W=tr)}{p(W=tr)}$ = $\\dfrac{(p(W=tr|A)*p(A|B=tr)p(B=tr)}{(𝑝(𝑊=𝗍𝗋|𝐴)*p(A|B)*p(B)}$\n",
    "\n",
    "$p(W=tr|A)*p(A|B=tr)p(B=tr)=p(W=tr|A=tr)*p(A=tr|B=tr)*p(B=tr)+p(W=tr|A=fa)*p(A=fa|B=tr)*p(B=tr)=0.9*0.99*0.01+0.5*(1-0.99)*0.01$\n",
    "\n",
    "$p(W=tr|A)*p(A|B)p(B)= p(W=tr|A)*p(A|B=tr)p(B=tr)+ p(W=tr|A)*p(A|B=fa)p(B=fa)$\n",
    "$p(W=tr|A)*p(A|B=fa)p(B=fa)=p(W=tr|A=tr)*p(A=tr|B=fa)*p(B=fa)+p(W=tr|A=fa)*p(A=fa|B=fa)*p(B=fa)$\n",
    "$p(W=tr|A)*p(A|B=fa)p(B=fa)=0.9*0.05*(1-0.01)+0.5*(1-0.05)*(1-0.01)$\n",
    "\n",
    "$𝑝(𝐵=𝗍𝗋|𝑊=𝗍𝗋)= \\dfrac{0.9*0.99*0.01+0.5*(1-0.99)*0.01}{0.9*0.99*0.01+0.5*(1-0.99)*0.01+0.9*0.05*(1-0.01)+0.5*(1-0.05)*(1-0.01)}$\n",
    "\n",
    "$𝑝(𝐵=𝗍𝗋|𝑊=𝗍𝗋)=0.0171$\n",
    "\n",
    "\n",
    "# b.   𝑝(𝐵=𝗍𝗋|𝑊=𝗍𝗋,𝐺=𝖿𝖺)\n",
    "\n",
    "$𝑝(𝐵=𝗍𝗋|𝑊=𝗍𝗋,𝐺=𝖿𝖺)=\\dfrac{𝑝(𝐵=𝗍𝗋,𝑊=𝗍𝗋,𝐺=𝖿𝖺)}{p(W=tr,G=fa)}$\n",
    "\n",
    "Dividend\n",
    "\n",
    "$𝑝(𝐵=𝗍𝗋,𝑊=𝗍𝗋,𝐺=𝖿𝖺)=p(W=tr|A)*p(G=fa|A)*p(A|B=tr)*p(B=tr)$\n",
    "$=\\big[p(W=tr|A=tr)*p(G=fa|A=tr)*p(A=tr|B=tr)*p(B=tr)\\big]+\\big[p(W=tr|A=fa)*p(G=fa|A=fa)*p(A=fa|B=tr)*p(B=tr)\\big)$\n",
    "$= 0.9*(1-0.7)*0.99*0.01+0.5*(1-0.2)*(1-0.99)*0.01$\n",
    "\n",
    "Dividor\n",
    "\n",
    "$p(W=tr,G=fa)=p(W=tr|A)*p(G=fa|A)*p(A|B)*p(B)$\n",
    "$=\\big(p(W=tr|A)*p(G=fa|A)*p(A|B=tr)*p(B=tr)\\big)+\\big(p(W=tr|A)*p(G=fa|A)*p(A|B=fa)*p(B=fa)\\big)$\n",
    "\n",
    "Part of the dividor we don't know yet, when B=fa\n",
    "\n",
    "$p(W=tr|A)*p(G=fa|A)*p(A|B=fa)*p(B=fa)$\n",
    "$=\\big[p(W=tr|A=fa)*p(G=fa|A=fa)*p(A=fa|B=fa)*p(B=fa)\\big]+\\big[p(W=tr|A=tr)*p(G=fa|A=tr)*p(A=tr|B=fa)*p(B=fa)\\big)$\n",
    "$=\\big[0.5*(1-0.2)*(1-0.05)*(1-0.01)\\big]+\\big[0.9*(1-0.7)*0.05*(1-0.01)\\big]$\n",
    "\n",
    "$𝑝(𝐵=𝗍𝗋|𝑊=𝗍𝗋,𝐺=𝖿𝖺)=\\dfrac{0.9*(1-0.7)*0.99*0.01+0.5*(1-0.2)*(1-0.99)*0.01}{\\big(0.9*(1-0.7)*0.99*0.01+0.5*(1-0.2)*(1-0.99)*0.01\\big)+\\big(0.5*(1-0.2)*(1-0.05)*(1-0.01)+0.9*(1-0.7)*0.05*(1-0.01)\\big)}$\n",
    "\n",
    "$𝑝(𝐵=𝗍𝗋|𝑊=𝗍𝗋,𝐺=𝖿𝖺)=0.006916"
   ]
  },
  {
   "cell_type": "markdown",
   "metadata": {
    "deletable": false,
    "editable": false,
    "nbgrader": {
     "cell_type": "markdown",
     "checksum": "9d6a798f32225dfed6ec85e429e99c84",
     "grade": false,
     "grade_id": "cell-4389fe27dd8356de",
     "locked": true,
     "points": 2,
     "schema_version": 3,
     "solution": false,
     "task": true
    }
   },
   "source": [
    "## Problem 2: Conditional independence from Bayesian network\n",
    "\n",
    "Based on the Bayesian network in [figure](markov.png) below, which of the following conditional independence statements follow? \n",
    "For each statement, give a ''true/false'' answer; for the false statements, also mention a path between the two nodes that is not blocked. (see [Barber: Bayesian Reasoning and Machine Learning](http://web4.cs.ucl.ac.uk/staff/D.Barber/pmwiki/pmwiki.php?n=Brml.Online),ch. 3.3.4)\n",
    "\n",
    "![markov](markov.png)\n",
    "\\\n",
    "\\begin{align}\n",
    "(a)\\ \\ A \\perp\\!\\!\\!\\perp  B \\mid C && (c)\\ \\ C \\perp\\!\\!\\!\\perp E \\mid B,D &&(e)\\ \\ B \\perp\\!\\!\\!\\perp F \\mid A,C\\\\\n",
    "(b)\\ \\ A \\perp\\!\\!\\!\\perp B \\mid \\emptyset && (d)\\ \\ C \\perp\\!\\!\\!\\perp D \\mid A,B &&(f)\\ \\ A \\perp\\!\\!\\!\\perp E \\mid D,F\n",
    "\\end{align}\n",
    "\n",
    "Furthermore, find a Bayesian network that is *Markov equivalent* to the network in the above [figure](markov.png). (see [Barber: Bayesian Reasoning and Machine Learning](http://web4.cs.ucl.ac.uk/staff/D.Barber/pmwiki/pmwiki.php?n=Brml.Online),ch. 3.3.6)\n",
    "\n",
    "Write your solution in LateX or attach a picture of the solution in the cell below.\n"
   ]
  },
  {
   "cell_type": "markdown",
   "metadata": {},
   "source": [
    "(a)$𝐴\\coprod𝐵∣𝐶$ = False, A->C<-B\n",
    "\n",
    "(b) $𝐴\\coprod𝐵∣∅$, unconditionally independent, true, all their connections are head to head\n",
    "\n",
    "(c) $C\\coprod E|B,D, false: C<-A->F->E$\n",
    "\n",
    "(d) $C\\coprod D |A,B, false: C->D $\n",
    "\n",
    "(e) $B\\coprod F|A,C, true$\n",
    "\n",
    "(f) $A\\coprod E | D, F$, false, A->C<-B->E, "
   ]
  },
  {
   "cell_type": "markdown",
   "metadata": {
    "deletable": false,
    "editable": false,
    "nbgrader": {
     "cell_type": "markdown",
     "checksum": "37b396f8243680b8d28bd2c93cfceaa8",
     "grade": false,
     "grade_id": "cell-0a1fe4ecb6deae3a",
     "locked": true,
     "points": 2,
     "schema_version": 3,
     "solution": false,
     "task": true
    }
   },
   "source": [
    "## Problem 3: Burden of specification\n",
    "\n",
    "Consider a distribution of five binary variables $x_i$.\n",
    "\n",
    "__(a)__ What is the number of parameters needed to define the distribution $p(x_1,x_2,x_3,x_4,x_5)$ if no assumptions are made, i.e. $p$ is an arbitrary distribution.\n",
    "\n",
    "__(b)__ How about if the Bayesian network in [figure](chain.png) below is assumed, i.e. $p$ factorizes as implied by the graph. \n",
    "\n",
    "__(c)__ And how about if, additionally to (b), we assume that the conditional distributions are shared, i.e. $p(x_{i+1}\\mid x_i)=p(x_{i}\\mid x_{i-1})$, $i=2,3,4$?\n",
    "\n",
    "![figure](chain.png)\n",
    "\n",
    "Write your solution in LateX or attach a picture of the solution in the cell below.\n"
   ]
  },
  {
   "cell_type": "markdown",
   "metadata": {},
   "source": [
    "# a. Number of parameters\n",
    "𝑝(𝑥_1,𝑥_2,𝑥_3,𝑥_4,𝑥_5)\n",
    "$=p(x_5|𝑥_1,𝑥_2,𝑥_3,𝑥_4)p(𝑥_1,𝑥_2,𝑥_3,𝑥_4)$\n",
    "\n",
    "$=p(x_5|𝑥_1,𝑥_2,𝑥_3,𝑥_4)p(x_4|𝑥_1,𝑥_2,𝑥_3)p(𝑥_1,𝑥_2,𝑥_3)$\n",
    "\n",
    "$=p(x_5|𝑥_1,𝑥_2,𝑥_3,𝑥_4)p(x_4|𝑥_1,𝑥_2,𝑥_3)*p(x_3|𝑥_1,𝑥_2)*p(𝑥_1,𝑥_2)$\n",
    "\n",
    "$=p(x_5|𝑥_1,𝑥_2,𝑥_3,𝑥_4)p(x_4|𝑥_1,𝑥_2,𝑥_3)*p(x_3|𝑥_1,𝑥_2)*p(x_2|𝑥_1)*p(𝑥_1)$\n",
    "\n",
    "$p(x_5|𝑥_1,𝑥_2,𝑥_3,𝑥_4)=2^4=16$ parameters\n",
    "\n",
    "$p(x_4|𝑥_1,𝑥_2,𝑥_3)=2^3=8$ parameters\n",
    "\n",
    "$p(x_3|x_1,x_2)=2^2=4$ parameters\n",
    "\n",
    "$p(x_2|𝑥_1)=2^1=2$ parameters\n",
    "\n",
    "$p(x_1)= 1$ parameter\n",
    "\n",
    "$=16+8+4+2+1=31$ parameters\n",
    "\n",
    "Parameters needed with ($𝑥_1, x_2 ... x_n$) is $2^n-1$\n",
    "\n",
    "\n",
    "# b. Parameters, when 𝑝 is assumed to factorize as implied by the graph\n",
    "\n",
    "$𝑝(𝑥_1,𝑥_2,𝑥_3,𝑥_4,𝑥_5)$\n",
    "\n",
    "$=p(x_5|x_4)p(x_4|x_3)p(x_3|x_2)p(x_2|x_1)p(x_1)$\n",
    "\n",
    "$=2+2+2+2+1=9$ parameters\n",
    "\n",
    "\n",
    "# c. The conditional distributions are shared\n",
    "$𝑝(𝑥_{𝑖+1}∣𝑥_𝑖)=𝑝(𝑥_𝑖∣𝑥_{𝑖−1})$, 𝑖=2,3,4?\n",
    "\n",
    "We know that $p(x_5|x_4)=p(x_4|x_3)=p(x_3|x_2)=p(x_2|x_1)$\n",
    "\n",
    "Thus\n",
    "\n",
    "$𝑝(𝑥_1,𝑥_2,𝑥_3,𝑥_4,𝑥_5)=p(x_2|x_1)p(x_2|x_1)p(x_2|x_1)p(x_2|x_1)p(x_1)$\n",
    "\n",
    "$p(x_2|x_1)=2$ parameters\n",
    "\n",
    "$p(x_1)=$1 parameter\n",
    "\n",
    "$2+1=3$ parameters\n",
    "\n"
   ]
  },
  {
   "cell_type": "markdown",
   "metadata": {
    "deletable": false,
    "editable": false,
    "nbgrader": {
     "cell_type": "markdown",
     "checksum": "69c7126f15c64792d79b3a2bdf29baad",
     "grade": false,
     "grade_id": "cell-5e0c1579745bce4e",
     "locked": true,
     "points": 2,
     "schema_version": 3,
     "solution": false,
     "task": true
    }
   },
   "source": [
    "## Problem 4: Medical diagnosis\n",
    "\n",
    "Let's have the following notation:\n",
    "\n",
    "| Notation    | Explanation                                      |\n",
    "|-------------|--------------------------------------------------|\n",
    "| $A = 1$<br> | A person has brain cancer                        |\n",
    "| $B = 1$     | A person has a high blood calcium level          |\n",
    "| $C = 1$     | A person has a brain tumor                       |\n",
    "| $D = 1$     | A person has seizures that cause unconsciousness |\n",
    "| $E = 1$     | A person has severe headaches                    |\n",
    "\n",
    "\n",
    "An expert has told us the following information about the relationships between variables:\n",
    "\n",
    ">Probability of severe headaches $P(E = 1)$ depends only on the fact whether a person has a brain tumor ($C$) or not. On the other hand, if one knows the blood calcium level ($B$) and whether the person has a tumor or not ($C$), one can specify the probability of unconsciousness seizures $P(D = 1)$. In this case, the probability of $D$ doesn't depend on the presence of the headaches ($E$) or (directly) on the fact whether the person has brain cancer or not  ($A$). The probability of a brain tumor ($C$) depends directly only on the fact, whether the person has brain cancer or not ($A$).\n",
    "\n",
    "Construct a DAG which represents (exactly) the causal statements specified by the expert.\n",
    "Furthemore, write down the conditional independencies corresponding the description of the expert and verify that this conforms with those implied by the DAG.\n",
    "Finally, write down the joint distribution $P(A, B, C, D, E)$ factorized according to the DAG.\n",
    "\n",
    "Write your solution in LateX or attach a picture of the solution in the cell below.\n"
   ]
  },
  {
   "cell_type": "markdown",
   "metadata": {},
   "source": [
    "![figure](week2network_zoom.jpg)\n",
    "\n",
    "Conditional independences by expert:\n",
    "\n",
    "$E \\perp\\!\\!\\!\\perp A | C $\n",
    "\n",
    "$E \\perp\\!\\!\\!\\perp D | C $\n",
    "\n",
    "$E \\perp\\!\\!\\!\\perp B | C $\n",
    "\n",
    "$D \\perp\\!\\!\\!\\perp A | B, C $ too specific\n",
    "\n",
    "$D \\perp\\!\\!\\!\\perp E | B, C $ too specific\n",
    "\n",
    "$C \\perp\\!\\!\\!\\perp E | A $, could not be found in DAG\n",
    "\n",
    "$C \\perp\\!\\!\\!\\perp D | A $, could not be found in DAG\n",
    "\n",
    "$C \\perp\\!\\!\\!\\perp B | A $, could not be found in DAG\n",
    "\n",
    "\n",
    "Conditional independences by DAG:\n",
    "\n",
    "$E \\perp\\!\\!\\!\\perp A | C $\n",
    "\n",
    "$E \\perp\\!\\!\\!\\perp D | C $\n",
    "\n",
    "$E \\perp\\!\\!\\!\\perp B | C $\n",
    "\n",
    "$D \\perp\\!\\!\\!\\perp A | C $\n",
    "\n",
    "$A \\perp\\!\\!\\!\\perp B | C $\n",
    "\n",
    "\n",
    "Expert did not mention, that brain cancer (A) is conditionally independent of blood calcium level (B).\n",
    "\n",
    "Expert did say, that brain tumor (C) depends directly only whether the person has brain cancer or not (A). This could be thought as conditional independence related to every other variable given A, which is not really the case as we can see from the DAG. In addition, in expert's statements $D \\perp\\!\\!\\!\\perp E | B, C$ and $D \\perp\\!\\!\\!\\perp A | B, C $, B is extra, because conditional independence between E and D, and D and E is achieved with only C.\n",
    "\n",
    "𝑃(𝐴,𝐵,𝐶,𝐷,𝐸)=p(E|C)p(D|C,B)p(B)p(C|A)p(A)"
   ]
  }
 ],
 "metadata": {
  "kernelspec": {
   "display_name": "Python 3",
   "language": "python",
   "name": "python3"
  },
  "language_info": {
   "codemirror_mode": {
    "name": "ipython",
    "version": 3
   },
   "file_extension": ".py",
   "mimetype": "text/x-python",
   "name": "python",
   "nbconvert_exporter": "python",
   "pygments_lexer": "ipython3",
   "version": "3.8.6"
  },
  "varInspector": {
   "cols": {
    "lenName": 16,
    "lenType": 16,
    "lenVar": 40
   },
   "kernels_config": {
    "python": {
     "delete_cmd_postfix": "",
     "delete_cmd_prefix": "del ",
     "library": "var_list.py",
     "varRefreshCmd": "print(var_dic_list())"
    },
    "r": {
     "delete_cmd_postfix": ") ",
     "delete_cmd_prefix": "rm(",
     "library": "var_list.r",
     "varRefreshCmd": "cat(var_dic_list()) "
    }
   },
   "types_to_exclude": [
    "module",
    "function",
    "builtin_function_or_method",
    "instance",
    "_Feature"
   ],
   "window_display": false
  }
 },
 "nbformat": 4,
 "nbformat_minor": 4
}
